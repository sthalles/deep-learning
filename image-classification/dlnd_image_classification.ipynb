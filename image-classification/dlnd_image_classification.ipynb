{
 "cells": [
  {
   "cell_type": "markdown",
   "metadata": {
    "collapsed": true
   },
   "source": [
    "# Image Classification\n",
    "In this project, you'll classify images from the [CIFAR-10 dataset](https://www.cs.toronto.edu/~kriz/cifar.html).  The dataset consists of airplanes, dogs, cats, and other objects. You'll preprocess the images, then train a convolutional neural network on all the samples. The images need to be normalized and the labels need to be one-hot encoded.  You'll get to apply what you learned and build a convolutional, max pooling, dropout, and fully connected layers.  At the end, you'll get to see your neural network's predictions on the sample images.\n",
    "## Get the Data\n",
    "Run the following cell to download the [CIFAR-10 dataset for python](https://www.cs.toronto.edu/~kriz/cifar-10-python.tar.gz)."
   ]
  },
  {
   "cell_type": "code",
   "execution_count": 1,
   "metadata": {
    "collapsed": false
   },
   "outputs": [
    {
     "name": "stdout",
     "output_type": "stream",
     "text": [
      "All files found!\n"
     ]
    }
   ],
   "source": [
    "\"\"\"\n",
    "DON'T MODIFY ANYTHING IN THIS CELL THAT IS BELOW THIS LINE\n",
    "\"\"\"\n",
    "from urllib.request import urlretrieve\n",
    "from os.path import isfile, isdir\n",
    "from tqdm import tqdm\n",
    "import problem_unittests as tests\n",
    "import tarfile\n",
    "\n",
    "cifar10_dataset_folder_path = 'cifar-10-batches-py'\n",
    "\n",
    "class DLProgress(tqdm):\n",
    "    last_block = 0\n",
    "\n",
    "    def hook(self, block_num=1, block_size=1, total_size=None):\n",
    "        self.total = total_size\n",
    "        self.update((block_num - self.last_block) * block_size)\n",
    "        self.last_block = block_num\n",
    "\n",
    "if not isfile('cifar-10-python.tar.gz'):\n",
    "    with DLProgress(unit='B', unit_scale=True, miniters=1, desc='CIFAR-10 Dataset') as pbar:\n",
    "        urlretrieve(\n",
    "            'https://www.cs.toronto.edu/~kriz/cifar-10-python.tar.gz',\n",
    "            'cifar-10-python.tar.gz',\n",
    "            pbar.hook)\n",
    "\n",
    "if not isdir(cifar10_dataset_folder_path):\n",
    "    with tarfile.open('cifar-10-python.tar.gz') as tar:\n",
    "        tar.extractall()\n",
    "        tar.close()\n",
    "\n",
    "\n",
    "tests.test_folder_path(cifar10_dataset_folder_path)"
   ]
  },
  {
   "cell_type": "markdown",
   "metadata": {},
   "source": [
    "## Explore the Data\n",
    "The dataset is broken into batches to prevent your machine from running out of memory.  The CIFAR-10 dataset consists of 5 batches, named `data_batch_1`, `data_batch_2`, etc.. Each batch contains the labels and images that are one of the following:\n",
    "* airplane\n",
    "* automobile\n",
    "* bird\n",
    "* cat\n",
    "* deer\n",
    "* dog\n",
    "* frog\n",
    "* horse\n",
    "* ship\n",
    "* truck\n",
    "\n",
    "Understanding a dataset is part of making predictions on the data.  Play around with the code cell below by changing the `batch_id` and `sample_id`. The `batch_id` is the id for a batch (1-5). The `sample_id` is the id for a image and label pair in the batch.\n",
    "\n",
    "Ask yourself \"What are all possible labels?\", \"What is the range of values for the image data?\", \"Are the labels in order or random?\".  Answers to questions like these will help you preprocess the data and end up with better predictions."
   ]
  },
  {
   "cell_type": "code",
   "execution_count": 2,
   "metadata": {
    "collapsed": false
   },
   "outputs": [
    {
     "name": "stdout",
     "output_type": "stream",
     "text": [
      "\n",
      "Stats of batch 1:\n",
      "Samples: 10000\n",
      "Label Counts: {0: 1005, 1: 974, 2: 1032, 3: 1016, 4: 999, 5: 937, 6: 1030, 7: 1001, 8: 1025, 9: 981}\n",
      "First 20 Labels: [6, 9, 9, 4, 1, 1, 2, 7, 8, 3, 4, 7, 7, 2, 9, 9, 9, 3, 2, 6]\n",
      "\n",
      "Example of Image 9999:\n",
      "Image - Min Value: 4 Max Value: 252\n",
      "Image - Shape: (32, 32, 3)\n",
      "Label - Label Id: 5 Name: dog\n"
     ]
    },
    {
     "data": {
      "image/png": "[encoded data removed]",
      "text/plain": [
       "<matplotlib.figure.Figure at 0x7f06cf113ba8>"
      ]
     },
     "metadata": {
      "image/png": {
       "height": 250,
       "width": 253
      }
     },
     "output_type": "display_data"
    }
   ],
   "source": [
    "%matplotlib inline\n",
    "%config InlineBackend.figure_format = 'retina'\n",
    "\n",
    "import helper\n",
    "import numpy as np\n",
    "\n",
    "# Explore the dataset\n",
    "batch_id = 1\n",
    "sample_id = 9999\n",
    "helper.display_stats(cifar10_dataset_folder_path, batch_id, sample_id)"
   ]
  },
  {
   "cell_type": "markdown",
   "metadata": {},
   "source": [
    "- All possible labels for the CIFAR dataset are: [airplane, automobile , bird, cat, deer, dog, frog, horse, ship, truck]"
   ]
  },
  {
   "cell_type": "markdown",
   "metadata": {},
   "source": [
    "- Each image in the CIFAR-10 dataset has a shape of 32x32x3 RGB colors ranging from 0 to 255."
   ]
  },
  {
   "cell_type": "markdown",
   "metadata": {},
   "source": [
    "- According to the CIFAR-10 documentation, The training batches contain the remaining images in random order, but some training batches may contain more images from one class than another. Between them, the training batches contain exactly 5000 images from each class. "
   ]
  },
  {
   "cell_type": "markdown",
   "metadata": {},
   "source": [
    "## Implement Preprocess Functions\n",
    "### Normalize\n",
    "In the cell below, implement the `normalize` function to take in image data, `x`, and return it as a normalized Numpy array. The values should be in the range of 0 to 1, inclusive.  The return object should be the same shape as `x`."
   ]
  },
  {
   "cell_type": "code",
   "execution_count": 3,
   "metadata": {
    "collapsed": false
   },
   "outputs": [
    {
     "name": "stdout",
     "output_type": "stream",
     "text": [
      "Tests Passed\n"
     ]
    }
   ],
   "source": [
    "def normalize(x):\n",
    "    \"\"\"\n",
    "    Normalize a list of sample image data in the range of 0 to 1\n",
    "    : x: List of image data.  The image shape is (32, 32, 3)\n",
    "    : return: Numpy array of normalize data\n",
    "    \"\"\"\n",
    "    # TODO: Implement Function\n",
    "    return x / 255.\n",
    "\n",
    "\n",
    "\"\"\"\n",
    "DON'T MODIFY ANYTHING IN THIS CELL THAT IS BELOW THIS LINE\n",
    "\"\"\"\n",
    "tests.test_normalize(normalize)"
   ]
  },
  {
   "cell_type": "markdown",
   "metadata": {},
   "source": [
    "### One-hot encode\n",
    "Just like the previous code cell, you'll be implementing a function for preprocessing.  This time, you'll implement the `one_hot_encode` function. The input, `x`, are a list of labels.  Implement the function to return the list of labels as One-Hot encoded Numpy array.  The possible values for labels are 0 to 9. The one-hot encoding function should return the same encoding for each value between each call to `one_hot_encode`.  Make sure to save the map of encodings outside the function.\n",
    "\n",
    "Hint: Don't reinvent the wheel."
   ]
  },
  {
   "cell_type": "code",
   "execution_count": 4,
   "metadata": {
    "collapsed": false
   },
   "outputs": [
    {
     "name": "stdout",
     "output_type": "stream",
     "text": [
      "Tests Passed\n"
     ]
    }
   ],
   "source": [
    "n_classes = 10\n",
    "def one_hot_encode(x):\n",
    "    \"\"\"\n",
    "    One hot encode a list of sample labels. Return a one-hot encoded vector for each label.\n",
    "    : x: List of sample Labels\n",
    "    : return: Numpy array of one-hot encoded labels\n",
    "    \"\"\"\n",
    "    sample_labels_size = len(x)\n",
    "    \n",
    "    # TODO: Implement Function\n",
    "    one_hot_array = np.zeros((sample_labels_size, n_classes))\n",
    "    one_hot_array[np.arange(sample_labels_size), x] = 1.0\n",
    "    return one_hot_array\n",
    "\n",
    "\n",
    "\"\"\"\n",
    "DON'T MODIFY ANYTHING IN THIS CELL THAT IS BELOW THIS LINE\n",
    "\"\"\"\n",
    "tests.test_one_hot_encode(one_hot_encode)"
   ]
  },
  {
   "cell_type": "markdown",
   "metadata": {},
   "source": [
    "### Randomize Data\n",
    "As you saw from exploring the data above, the order of the samples are randomized.  It doesn't hurt to randomize it again, but you don't need to for this dataset."
   ]
  },
  {
   "cell_type": "markdown",
   "metadata": {},
   "source": [
    "## Preprocess all the data and save it\n",
    "Running the code cell below will preprocess all the CIFAR-10 data and save it to file. The code below also uses 10% of the training data for validation."
   ]
  },
  {
   "cell_type": "code",
   "execution_count": 5,
   "metadata": {
    "collapsed": false
   },
   "outputs": [],
   "source": [
    "\"\"\"\n",
    "DON'T MODIFY ANYTHING IN THIS CELL\n",
    "\"\"\"\n",
    "# Preprocess Training, Validation, and Testing Data\n",
    "helper.preprocess_and_save_data(cifar10_dataset_folder_path, normalize, one_hot_encode)"
   ]
  },
  {
   "cell_type": "markdown",
   "metadata": {},
   "source": [
    "# Check Point\n",
    "This is your first checkpoint.  If you ever decide to come back to this notebook or have to restart the notebook, you can start from here.  The preprocessed data has been saved to disk."
   ]
  },
  {
   "cell_type": "code",
   "execution_count": 6,
   "metadata": {
    "collapsed": true
   },
   "outputs": [],
   "source": [
    "\"\"\"\n",
    "DON'T MODIFY ANYTHING IN THIS CELL\n",
    "\"\"\"\n",
    "import pickle\n",
    "import problem_unittests as tests\n",
    "import helper\n",
    "\n",
    "# Load the Preprocessed Validation data\n",
    "valid_features, valid_labels = pickle.load(open('preprocess_validation.p', mode='rb'))"
   ]
  },
  {
   "cell_type": "markdown",
   "metadata": {},
   "source": [
    "## Build the network\n",
    "For the neural network, you'll build each layer into a function.  Most of the code you've seen has been outside of functions. To test your code more thoroughly, we require that you put each layer in a function.  This allows us to give you better feedback and test for simple mistakes using our unittests before you submit your project.\n",
    "\n",
    ">**Note:** If you're finding it hard to dedicate enough time for this course each week, we've provided a small shortcut to this part of the project. In the next couple of problems, you'll have the option to use classes from the [TensorFlow Layers](https://www.tensorflow.org/api_docs/python/tf/layers) or [TensorFlow Layers (contrib)](https://www.tensorflow.org/api_guides/python/contrib.layers) packages to build each layer, except the layers you build in the \"Convolutional and Max Pooling Layer\" section.  TF Layers is similar to Keras's and TFLearn's abstraction to layers, so it's easy to pickup.\n",
    "\n",
    ">However, if you would like to get the most out of this course, try to solve all the problems _without_ using anything from the TF Layers packages. You **can** still use classes from other packages that happen to have the same name as ones you find in TF Layers! For example, instead of using the TF Layers version of the `conv2d` class, [tf.layers.conv2d](https://www.tensorflow.org/api_docs/python/tf/layers/conv2d), you would want to use the TF Neural Network version of `conv2d`, [tf.nn.conv2d](https://www.tensorflow.org/api_docs/python/tf/nn/conv2d). \n",
    "\n",
    "Let's begin!\n",
    "\n",
    "### Input\n",
    "The neural network needs to read the image data, one-hot encoded labels, and dropout keep probability. Implement the following functions\n",
    "* Implement `neural_net_image_input`\n",
    " * Return a [TF Placeholder](https://www.tensorflow.org/api_docs/python/tf/placeholder)\n",
    " * Set the shape using `image_shape` with batch size set to `None`.\n",
    " * Name the TensorFlow placeholder \"x\" using the TensorFlow `name` parameter in the [TF Placeholder](https://www.tensorflow.org/api_docs/python/tf/placeholder).\n",
    "* Implement `neural_net_label_input`\n",
    " * Return a [TF Placeholder](https://www.tensorflow.org/api_docs/python/tf/placeholder)\n",
    " * Set the shape using `n_classes` with batch size set to `None`.\n",
    " * Name the TensorFlow placeholder \"y\" using the TensorFlow `name` parameter in the [TF Placeholder](https://www.tensorflow.org/api_docs/python/tf/placeholder).\n",
    "* Implement `neural_net_keep_prob_input`\n",
    " * Return a [TF Placeholder](https://www.tensorflow.org/api_docs/python/tf/placeholder) for dropout keep probability.\n",
    " * Name the TensorFlow placeholder \"keep_prob\" using the TensorFlow `name` parameter in the [TF Placeholder](https://www.tensorflow.org/api_docs/python/tf/placeholder).\n",
    "\n",
    "These names will be used at the end of the project to load your saved model.\n",
    "\n",
    "Note: `None` for shapes in TensorFlow allow for a dynamic size."
   ]
  },
  {
   "cell_type": "code",
   "execution_count": 7,
   "metadata": {
    "collapsed": false
   },
   "outputs": [
    {
     "name": "stdout",
     "output_type": "stream",
     "text": [
      "Image Input Tests Passed.\n",
      "Label Input Tests Passed.\n",
      "Keep Prob Tests Passed.\n"
     ]
    }
   ],
   "source": [
    "import tensorflow as tf\n",
    "\n",
    "def neural_net_image_input(image_shape):\n",
    "    \"\"\"\n",
    "    Return a Tensor for a batch of image input\n",
    "    : image_shape: Shape of the images\n",
    "    : return: Tensor for image input.\n",
    "    \"\"\"\n",
    "    img_w = image_shape[0]\n",
    "    img_h = image_shape[1]\n",
    "    img_depth = image_shape[2]\n",
    "    return tf.placeholder(shape=(None, img_w, img_h, img_depth), dtype=tf.float32, name=\"x\")\n",
    "\n",
    "\n",
    "def neural_net_label_input(n_classes):\n",
    "    \"\"\"\n",
    "    Return a Tensor for a batch of label input\n",
    "    : n_classes: Number of classes\n",
    "    : return: Tensor for label input.\n",
    "    \"\"\"\n",
    "    return tf.placeholder(shape=(None, n_classes), dtype=tf.float32, name=\"y\")\n",
    "\n",
    "\n",
    "def neural_net_keep_prob_input():\n",
    "    \"\"\"\n",
    "    Return a Tensor for keep probability\n",
    "    : return: Tensor for keep probability.\n",
    "    \"\"\"\n",
    "    return tf.placeholder(shape=None, dtype=tf.float32, name=\"keep_prob\")\n",
    "\n",
    "\n",
    "\"\"\"\n",
    "DON'T MODIFY ANYTHING IN THIS CELL THAT IS BELOW THIS LINE\n",
    "\"\"\"\n",
    "tf.reset_default_graph()\n",
    "tests.test_nn_image_inputs(neural_net_image_input)\n",
    "tests.test_nn_label_inputs(neural_net_label_input)\n",
    "tests.test_nn_keep_prob_inputs(neural_net_keep_prob_input)"
   ]
  },
  {
   "cell_type": "markdown",
   "metadata": {},
   "source": [
    "### Convolution and Max Pooling Layer\n",
    "Convolution layers have a lot of success with images. For this code cell, you should implement the function `conv2d_maxpool` to apply convolution then max pooling:\n",
    "* Create the weight and bias using `conv_ksize`, `conv_num_outputs` and the shape of `x_tensor`.\n",
    "* Apply a convolution to `x_tensor` using weight and `conv_strides`.\n",
    " * We recommend you use same padding, but you're welcome to use any padding.\n",
    "* Add bias\n",
    "* Add a nonlinear activation to the convolution.\n",
    "* Apply Max Pooling using `pool_ksize` and `pool_strides`.\n",
    " * We recommend you use same padding, but you're welcome to use any padding.\n",
    "\n",
    "**Note:** You **can't** use [TensorFlow Layers](https://www.tensorflow.org/api_docs/python/tf/layers) or [TensorFlow Layers (contrib)](https://www.tensorflow.org/api_guides/python/contrib.layers) for **this** layer, but you can still use TensorFlow's [Neural Network](https://www.tensorflow.org/api_docs/python/tf/nn) package. You may still use the shortcut option for all the **other** layers."
   ]
  },
  {
   "cell_type": "code",
   "execution_count": 8,
   "metadata": {
    "collapsed": false
   },
   "outputs": [
    {
     "name": "stdout",
     "output_type": "stream",
     "text": [
      "Tests Passed\n"
     ]
    }
   ],
   "source": [
    "def conv2d_maxpool(x_tensor, conv_num_outputs, conv_ksize, conv_strides, pool_ksize, pool_strides):\n",
    "    \"\"\"\n",
    "    Apply convolution then max pooling to x_tensor\n",
    "    :param x_tensor: TensorFlow Tensor\n",
    "    :param conv_num_outputs: Number of outputs for the convolutional layer\n",
    "    :param conv_ksize: kernal size 2-D Tuple for the convolutional layer\n",
    "    :param conv_strides: Stride 2-D Tuple for convolution\n",
    "    :param pool_ksize: kernal size 2-D Tuple for pool\n",
    "    :param pool_strides: Stride 2-D Tuple for pool\n",
    "    : return: A tensor that represents convolution and max pooling of x_tensor\n",
    "    \"\"\"\n",
    "    # print(x_tensor.get_shape()[3])\n",
    "    # print(\"conv_num_outputs:\", conv_num_outputs)\n",
    "    # print(\"conv_ksize:\", conv_ksize)\n",
    "    # print(\"conv_strides:\", conv_strides)\n",
    "    # print(\"pool_ksize:\", pool_ksize)\n",
    "    # print(\"pool_strides:\", pool_strides)\n",
    "    \n",
    "    # The first two values are the patch size, the thrird is the # of inpput channels and the last is the\n",
    "    # the number of output channels\n",
    "    weight_input_shape = [conv_ksize[0], conv_ksize[1], int(x_tensor.get_shape()[3]), conv_num_outputs] # [2, 2, 3, 32]\n",
    "    \n",
    "    # stddev inspired by this tensorflow implementation at: \n",
    "    # https://github.com/tensorflow/models/blob/master/tutorials/image/cifar10/cifar10.py\n",
    "    weights = tf.Variable(tf.truncated_normal(weight_input_shape, stddev=5e-2))\n",
    "    \n",
    "    # define the bias variable\n",
    "    bias = tf.Variable(tf.zeros([conv_num_outputs]))\n",
    "    \n",
    "    # create convolution strides shape \n",
    "    strides = [1, conv_strides[0], conv_strides[1], 1] # [1,4,4,1]\n",
    "    \n",
    "    # apply convolution, add bias and apply non-linearity\n",
    "    conv = tf.nn.relu(tf.nn.conv2d(x_tensor,weights, strides=strides, padding='SAME') + bias)\n",
    "    \n",
    "    ksize = [1,pool_ksize[0],pool_ksize[1],1] # [1, 2, 2, 1]\n",
    "    strides = [1,pool_strides[0],pool_strides[0],1] # [1, 2, 2, 1]\n",
    "    \n",
    "    # apply max pooling poeration\n",
    "    pool = tf.nn.max_pool(conv, ksize=ksize, strides=strides, padding='SAME')\n",
    "\n",
    "    return pool \n",
    "\n",
    "\n",
    "\"\"\"\n",
    "DON'T MODIFY ANYTHING IN THIS CELL THAT IS BELOW THIS LINE\n",
    "\"\"\"\n",
    "tests.test_con_pool(conv2d_maxpool)"
   ]
  },
  {
   "cell_type": "markdown",
   "metadata": {},
   "source": [
    "### Flatten Layer\n",
    "Implement the `flatten` function to change the dimension of `x_tensor` from a 4-D tensor to a 2-D tensor.  The output should be the shape (*Batch Size*, *Flattened Image Size*). Shortcut option: you can use classes from the [TensorFlow Layers](https://www.tensorflow.org/api_docs/python/tf/layers) or [TensorFlow Layers (contrib)](https://www.tensorflow.org/api_guides/python/contrib.layers) packages for this layer. For more of a challenge, only use other TensorFlow packages."
   ]
  },
  {
   "cell_type": "code",
   "execution_count": 9,
   "metadata": {
    "collapsed": false
   },
   "outputs": [
    {
     "name": "stdout",
     "output_type": "stream",
     "text": [
      "Tests Passed\n"
     ]
    }
   ],
   "source": [
    "def flatten(x_tensor):\n",
    "    \"\"\"\n",
    "    Flatten x_tensor to (Batch Size, Flattened Image Size)\n",
    "    : x_tensor: A tensor of size (Batch Size, ...), where ... are the image dimensions.\n",
    "    : return: A tensor of size (Batch Size, Flattened Image Size).\n",
    "    \"\"\"\n",
    "    x_tensor_shape = x_tensor.get_shape()\n",
    "    \n",
    "    out = x_tensor_shape[1].value * x_tensor_shape[2].value * x_tensor_shape[3].value\n",
    "    flatten = tf.reshape(x_tensor, [-1, out])\n",
    "    return flatten\n",
    "\n",
    "\n",
    "\"\"\"\n",
    "DON'T MODIFY ANYTHING IN THIS CELL THAT IS BELOW THIS LINE\n",
    "\"\"\"\n",
    "tests.test_flatten(flatten)"
   ]
  },
  {
   "cell_type": "markdown",
   "metadata": {},
   "source": [
    "### Fully-Connected Layer\n",
    "Implement the `fully_conn` function to apply a fully connected layer to `x_tensor` with the shape (*Batch Size*, *num_outputs*). Shortcut option: you can use classes from the [TensorFlow Layers](https://www.tensorflow.org/api_docs/python/tf/layers) or [TensorFlow Layers (contrib)](https://www.tensorflow.org/api_guides/python/contrib.layers) packages for this layer. For more of a challenge, only use other TensorFlow packages."
   ]
  },
  {
   "cell_type": "code",
   "execution_count": 10,
   "metadata": {
    "collapsed": false
   },
   "outputs": [
    {
     "name": "stdout",
     "output_type": "stream",
     "text": [
      "Tests Passed\n"
     ]
    }
   ],
   "source": [
    "def fully_conn(x_tensor, num_outputs):\n",
    "    \"\"\"\n",
    "    Apply a fully connected layer to x_tensor using weight and bias\n",
    "    : x_tensor: A 2-D tensor where the first dimension is batch size.\n",
    "    : num_outputs: The number of output that the new tensor should be.\n",
    "    : return: A 2-D tensor where the second dimension is num_outputs.\n",
    "    \"\"\"\n",
    "    \n",
    "    in_shape = x_tensor.get_shape()\n",
    "    # stddev inspired by this tensorflow implementation at: \n",
    "    # https://github.com/tensorflow/models/blob/master/tutorials/image/cifar10/cifar10.py\n",
    "    weights_fully_conn = tf.Variable(tf.truncated_normal([in_shape[1].value, num_outputs], stddev=0.04))   \n",
    "    return tf.nn.relu(tf.matmul(x_tensor, weights_fully_conn))\n",
    "\n",
    "\n",
    "\"\"\"\n",
    "DON'T MODIFY ANYTHING IN THIS CELL THAT IS BELOW THIS LINE\n",
    "\"\"\"\n",
    "tests.test_fully_conn(fully_conn)"
   ]
  },
  {
   "cell_type": "markdown",
   "metadata": {},
   "source": [
    "### Output Layer\n",
    "Implement the `output` function to apply a fully connected layer to `x_tensor` with the shape (*Batch Size*, *num_outputs*). Shortcut option: you can use classes from the [TensorFlow Layers](https://www.tensorflow.org/api_docs/python/tf/layers) or [TensorFlow Layers (contrib)](https://www.tensorflow.org/api_guides/python/contrib.layers) packages for this layer. For more of a challenge, only use other TensorFlow packages.\n",
    "\n",
    "**Note:** Activation, softmax, or cross entropy should **not** be applied to this."
   ]
  },
  {
   "cell_type": "code",
   "execution_count": 11,
   "metadata": {
    "collapsed": false
   },
   "outputs": [
    {
     "name": "stdout",
     "output_type": "stream",
     "text": [
      "Tests Passed\n"
     ]
    }
   ],
   "source": [
    "def output(x_tensor, num_outputs):\n",
    "    \"\"\"\n",
    "    Apply a output layer to x_tensor using weight and bias\n",
    "    : x_tensor: A 2-D tensor where the first dimension is batch size.\n",
    "    : num_outputs: The number of output that the new tensor should be.\n",
    "    : return: A 2-D tensor where the second dimension is num_outputs.\n",
    "    \"\"\"\n",
    "    in_shape = x_tensor.get_shape()\n",
    "    # stddev inspired by this tensorflow implementation at: \n",
    "    # https://github.com/tensorflow/models/blob/master/tutorials/image/cifar10/cifar10.py\n",
    "    weights_fully_conn = tf.Variable(tf.truncated_normal([in_shape[1].value, num_outputs], stddev=0.04)) \n",
    "    bias_fully_conn = tf.Variable(tf.zeros([num_outputs]))\n",
    "    \n",
    "    # The output function creates an output layer with a linear activation.\n",
    "    return tf.matmul(x_tensor, weights_fully_conn) + bias_fully_conn\n",
    "\n",
    "\n",
    "\"\"\"\n",
    "DON'T MODIFY ANYTHING IN THIS CELL THAT IS BELOW THIS LINE\n",
    "\"\"\"\n",
    "tests.test_output(output)"
   ]
  },
  {
   "cell_type": "markdown",
   "metadata": {},
   "source": [
    "### Create Convolutional Model\n",
    "Implement the function `conv_net` to create a convolutional neural network model. The function takes in a batch of images, `x`, and outputs logits.  Use the layers you created above to create this model:\n",
    "\n",
    "* Apply 1, 2, or 3 Convolution and Max Pool layers\n",
    "* Apply a Flatten Layer\n",
    "* Apply 1, 2, or 3 Fully Connected Layers\n",
    "* Apply an Output Layer\n",
    "* Return the output\n",
    "* Apply [TensorFlow's Dropout](https://www.tensorflow.org/api_docs/python/tf/nn/dropout) to one or more layers in the model using `keep_prob`. "
   ]
  },
  {
   "cell_type": "code",
   "execution_count": 12,
   "metadata": {
    "collapsed": false
   },
   "outputs": [
    {
     "name": "stdout",
     "output_type": "stream",
     "text": [
      "Neural Network Built!\n"
     ]
    }
   ],
   "source": [
    "def conv_net(x, keep_prob):\n",
    "    \"\"\"\n",
    "    Create a convolutional neural network model\n",
    "    : x: Placeholder tensor that holds image data.\n",
    "    : keep_prob: Placeholder tensor that hold dropout keep probability.\n",
    "    : return: Tensor that represents logits\n",
    "    \"\"\"\n",
    "    # TODO: Apply 1, 2, or 3 Convolution and Max Pool layers\n",
    "    #    Play around with different number of outputs, kernel size and stride\n",
    "    # Function Definition from Above:\n",
    "    #    conv2d_maxpool(x_tensor, conv_num_outputs, conv_ksize, conv_strides, pool_ksize, pool_strides)\n",
    "    conv1 = conv2d_maxpool(x, 32, [5,5], [1,1], [3,3], [2,2])\n",
    "    conv2 = conv2d_maxpool(conv1, 64, [5,5], [1,1], [3,3], [2,2])\n",
    "    \n",
    "    # TODO: Apply a Flatten Layer\n",
    "    # Function Definition from Above:\n",
    "    #   flatten(x_tensor)\n",
    "    flatten_layer = flatten(conv2)\n",
    "\n",
    "    # TODO: Apply 1, 2, or 3 Fully Connected Layers\n",
    "    #    Play around with different number of outputs\n",
    "    # Function Definition from Above:\n",
    "    #   fully_conn(x_tensor, num_outputs)\n",
    "    fc1 = fully_conn(flatten_layer, 384)\n",
    "    fc1_dropout = tf.nn.dropout(fc1, keep_prob)\n",
    "    fc2 = fully_conn(fc1_dropout, 192)\n",
    "    fc2_dropout = tf.nn.dropout(fc2, keep_prob)\n",
    "    \n",
    "    # TODO: Apply an Output Layer\n",
    "    #    Set this to the number of classes\n",
    "    # Function Definition from Above:\n",
    "    #   output(x_tensor, num_outputs)\n",
    "    output_layer = output(fc2_dropout, 10)\n",
    "    \n",
    "    # TODO: return output\n",
    "    return output_layer\n",
    "\n",
    "\n",
    "\"\"\"\n",
    "DON'T MODIFY ANYTHING IN THIS CELL THAT IS BELOW THIS LINE\n",
    "\"\"\"\n",
    "\n",
    "##############################\n",
    "## Build the Neural Network ##\n",
    "##############################\n",
    "\n",
    "# Remove previous weights, bias, inputs, etc..\n",
    "tf.reset_default_graph()\n",
    "\n",
    "# Inputs\n",
    "x = neural_net_image_input((32, 32, 3))\n",
    "y = neural_net_label_input(10)\n",
    "keep_prob = neural_net_keep_prob_input()\n",
    "\n",
    "# Model\n",
    "logits = conv_net(x, keep_prob)\n",
    "\n",
    "# Name logits Tensor, so that is can be loaded from disk after training\n",
    "logits = tf.identity(logits, name='logits')\n",
    "\n",
    "# Loss and Optimizer\n",
    "cost = tf.reduce_mean(tf.nn.softmax_cross_entropy_with_logits(logits=logits, labels=y))\n",
    "optimizer = tf.train.AdamOptimizer().minimize(cost)\n",
    "\n",
    "# Accuracy\n",
    "correct_pred = tf.equal(tf.argmax(logits, 1), tf.argmax(y, 1))\n",
    "accuracy = tf.reduce_mean(tf.cast(correct_pred, tf.float32), name='accuracy')\n",
    "\n",
    "tests.test_conv_net(conv_net)"
   ]
  },
  {
   "cell_type": "markdown",
   "metadata": {},
   "source": [
    "## Train the Neural Network\n",
    "### Single Optimization\n",
    "Implement the function `train_neural_network` to do a single optimization.  The optimization should use `optimizer` to optimize in `session` with a `feed_dict` of the following:\n",
    "* `x` for image input\n",
    "* `y` for labels\n",
    "* `keep_prob` for keep probability for dropout\n",
    "\n",
    "This function will be called for each batch, so `tf.global_variables_initializer()` has already been called.\n",
    "\n",
    "Note: Nothing needs to be returned. This function is only optimizing the neural network."
   ]
  },
  {
   "cell_type": "code",
   "execution_count": 13,
   "metadata": {
    "collapsed": false
   },
   "outputs": [
    {
     "name": "stdout",
     "output_type": "stream",
     "text": [
      "Tests Passed\n"
     ]
    }
   ],
   "source": [
    "def train_neural_network(session, optimizer, keep_probability, feature_batch, label_batch):\n",
    "    \"\"\"\n",
    "    Optimize the session on a batch of images and labels\n",
    "    : session: Current TensorFlow session\n",
    "    : optimizer: TensorFlow optimizer function\n",
    "    : keep_probability: keep probability\n",
    "    : feature_batch: Batch of Numpy image data\n",
    "    : label_batch: Batch of Numpy label data\n",
    "    \"\"\"\n",
    "    \n",
    "    _ = session.run(optimizer, feed_dict={x: feature_batch, y: label_batch, keep_prob:keep_probability})\n",
    "\n",
    "\n",
    "\"\"\"\n",
    "DON'T MODIFY ANYTHING IN THIS CELL THAT IS BELOW THIS LINE\n",
    "\"\"\"\n",
    "tests.test_train_nn(train_neural_network)"
   ]
  },
  {
   "cell_type": "markdown",
   "metadata": {},
   "source": [
    "### Show Stats\n",
    "Implement the function `print_stats` to print loss and validation accuracy.  Use the global variables `valid_features` and `valid_labels` to calculate validation accuracy.  Use a keep probability of `1.0` to calculate the loss and validation accuracy."
   ]
  },
  {
   "cell_type": "code",
   "execution_count": 14,
   "metadata": {
    "collapsed": false
   },
   "outputs": [],
   "source": [
    "def print_stats(session, feature_batch, label_batch, cost, accuracy):\n",
    "    \"\"\"\n",
    "    Print information about loss and validation accuracy\n",
    "    : session: Current TensorFlow session\n",
    "    : feature_batch: Batch of Numpy image data\n",
    "    : label_batch: Batch of Numpy label data\n",
    "    : cost: TensorFlow cost function\n",
    "    : accuracy: TensorFlow accuracy function\n",
    "    \"\"\"\n",
    "    loss, acc = session.run([cost, accuracy], feed_dict={x:valid_features, y:valid_labels, keep_prob:1})\n",
    "    print(\"Loss:\", loss, \"\\tAccuracy:\", acc)"
   ]
  },
  {
   "cell_type": "markdown",
   "metadata": {},
   "source": [
    "### Hyperparameters\n",
    "Tune the following parameters:\n",
    "* Set `epochs` to the number of iterations until the network stops learning or start overfitting\n",
    "* Set `batch_size` to the highest number that your machine has memory for.  Most people set them to common sizes of memory:\n",
    " * 64\n",
    " * 128\n",
    " * 256\n",
    " * ...\n",
    "* Set `keep_probability` to the probability of keeping a node using dropout"
   ]
  },
  {
   "cell_type": "code",
   "execution_count": 15,
   "metadata": {
    "collapsed": true
   },
   "outputs": [],
   "source": [
    "# TODO: Tune Parameters\n",
    "epochs = 30\n",
    "batch_size = 128\n",
    "keep_probability = 0.5"
   ]
  },
  {
   "cell_type": "markdown",
   "metadata": {},
   "source": [
    "### Train on a Single CIFAR-10 Batch\n",
    "Instead of training the neural network on all the CIFAR-10 batches of data, let's use a single batch. This should save time while you iterate on the model to get a better accuracy.  Once the final validation accuracy is 50% or greater, run the model on all the data in the next section."
   ]
  },
  {
   "cell_type": "code",
   "execution_count": 16,
   "metadata": {
    "collapsed": false
   },
   "outputs": [
    {
     "name": "stdout",
     "output_type": "stream",
     "text": [
      "Checking the Training on a Single Batch...\n",
      "Epoch  1, CIFAR-10 Batch 1:  Loss: 1.72826 \tAccuracy: 0.3684\n",
      "Epoch  2, CIFAR-10 Batch 1:  Loss: 1.54201 \tAccuracy: 0.4322\n",
      "Epoch  3, CIFAR-10 Batch 1:  Loss: 1.44224 \tAccuracy: 0.4774\n",
      "Epoch  4, CIFAR-10 Batch 1:  Loss: 1.35291 \tAccuracy: 0.4978\n",
      "Epoch  5, CIFAR-10 Batch 1:  Loss: 1.344 \tAccuracy: 0.5064\n",
      "Epoch  6, CIFAR-10 Batch 1:  Loss: 1.32606 \tAccuracy: 0.5222\n",
      "Epoch  7, CIFAR-10 Batch 1:  Loss: 1.27738 \tAccuracy: 0.5402\n",
      "Epoch  8, CIFAR-10 Batch 1:  Loss: 1.22847 \tAccuracy: 0.5524\n",
      "Epoch  9, CIFAR-10 Batch 1:  Loss: 1.22376 \tAccuracy: 0.5698\n",
      "Epoch 10, CIFAR-10 Batch 1:  Loss: 1.16162 \tAccuracy: 0.5896\n",
      "Epoch 11, CIFAR-10 Batch 1:  Loss: 1.15978 \tAccuracy: 0.5982\n",
      "Epoch 12, CIFAR-10 Batch 1:  Loss: 1.19646 \tAccuracy: 0.5926\n",
      "Epoch 13, CIFAR-10 Batch 1:  Loss: 1.1814 \tAccuracy: 0.61\n",
      "Epoch 14, CIFAR-10 Batch 1:  Loss: 1.19234 \tAccuracy: 0.6166\n",
      "Epoch 15, CIFAR-10 Batch 1:  Loss: 1.1638 \tAccuracy: 0.6228\n",
      "Epoch 16, CIFAR-10 Batch 1:  Loss: 1.19277 \tAccuracy: 0.628\n",
      "Epoch 17, CIFAR-10 Batch 1:  Loss: 1.22034 \tAccuracy: 0.6238\n",
      "Epoch 18, CIFAR-10 Batch 1:  Loss: 1.26743 \tAccuracy: 0.6276\n",
      "Epoch 19, CIFAR-10 Batch 1:  Loss: 1.30775 \tAccuracy: 0.621\n",
      "Epoch 20, CIFAR-10 Batch 1:  Loss: 1.28822 \tAccuracy: 0.6202\n",
      "Epoch 21, CIFAR-10 Batch 1:  Loss: 1.27186 \tAccuracy: 0.6296\n",
      "Epoch 22, CIFAR-10 Batch 1:  Loss: 1.38035 \tAccuracy: 0.6094\n",
      "Epoch 23, CIFAR-10 Batch 1:  Loss: 1.34427 \tAccuracy: 0.6304\n",
      "Epoch 24, CIFAR-10 Batch 1:  Loss: 1.36119 \tAccuracy: 0.6232\n",
      "Epoch 25, CIFAR-10 Batch 1:  Loss: 1.39013 \tAccuracy: 0.6218\n",
      "Epoch 26, CIFAR-10 Batch 1:  Loss: 1.46122 \tAccuracy: 0.6198\n",
      "Epoch 27, CIFAR-10 Batch 1:  Loss: 1.44304 \tAccuracy: 0.6188\n",
      "Epoch 28, CIFAR-10 Batch 1:  Loss: 1.44471 \tAccuracy: 0.6234\n",
      "Epoch 29, CIFAR-10 Batch 1:  Loss: 1.48727 \tAccuracy: 0.6056\n",
      "Epoch 30, CIFAR-10 Batch 1:  Loss: 1.58606 \tAccuracy: 0.6114\n"
     ]
    }
   ],
   "source": [
    "\"\"\"\n",
    "DON'T MODIFY ANYTHING IN THIS CELL\n",
    "\"\"\"\n",
    "print('Checking the Training on a Single Batch...')\n",
    "with tf.Session() as sess:\n",
    "    # Initializing the variables\n",
    "    sess.run(tf.global_variables_initializer())\n",
    "    \n",
    "    # Training cycle\n",
    "    for epoch in range(epochs):\n",
    "        batch_i = 1\n",
    "        for batch_features, batch_labels in helper.load_preprocess_training_batch(batch_i, batch_size):\n",
    "            train_neural_network(sess, optimizer, keep_probability, batch_features, batch_labels)\n",
    "        print('Epoch {:>2}, CIFAR-10 Batch {}:  '.format(epoch + 1, batch_i), end='')\n",
    "        print_stats(sess, batch_features, batch_labels, cost, accuracy)"
   ]
  },
  {
   "cell_type": "markdown",
   "metadata": {},
   "source": [
    "### Fully Train the Model\n",
    "Now that you got a good accuracy with a single CIFAR-10 batch, try it with all five batches."
   ]
  },
  {
   "cell_type": "code",
   "execution_count": 17,
   "metadata": {
    "collapsed": false
   },
   "outputs": [
    {
     "name": "stdout",
     "output_type": "stream",
     "text": [
      "Training...\n",
      "Epoch  1, CIFAR-10 Batch 1:  Loss: 1.91458 \tAccuracy: 0.2816\n",
      "Epoch  1, CIFAR-10 Batch 2:  Loss: 1.60622 \tAccuracy: 0.3984\n",
      "Epoch  1, CIFAR-10 Batch 3:  Loss: 1.47656 \tAccuracy: 0.4372\n",
      "Epoch  1, CIFAR-10 Batch 4:  Loss: 1.46236 \tAccuracy: 0.4636\n",
      "Epoch  1, CIFAR-10 Batch 5:  Loss: 1.33368 \tAccuracy: 0.5166\n",
      "Epoch  2, CIFAR-10 Batch 1:  Loss: 1.27822 \tAccuracy: 0.5388\n",
      "Epoch  2, CIFAR-10 Batch 2:  Loss: 1.2527 \tAccuracy: 0.5444\n",
      "Epoch  2, CIFAR-10 Batch 3:  Loss: 1.21331 \tAccuracy: 0.5552\n",
      "Epoch  2, CIFAR-10 Batch 4:  Loss: 1.19636 \tAccuracy: 0.5748\n",
      "Epoch  2, CIFAR-10 Batch 5:  Loss: 1.12587 \tAccuracy: 0.5894\n",
      "Epoch  3, CIFAR-10 Batch 1:  Loss: 1.18018 \tAccuracy: 0.584\n",
      "Epoch  3, CIFAR-10 Batch 2:  Loss: 1.13588 \tAccuracy: 0.593\n",
      "Epoch  3, CIFAR-10 Batch 3:  Loss: 1.10249 \tAccuracy: 0.599\n",
      "Epoch  3, CIFAR-10 Batch 4:  Loss: 1.0358 \tAccuracy: 0.6314\n",
      "Epoch  3, CIFAR-10 Batch 5:  Loss: 1.01575 \tAccuracy: 0.6438\n",
      "Epoch  4, CIFAR-10 Batch 1:  Loss: 1.032 \tAccuracy: 0.6366\n",
      "Epoch  4, CIFAR-10 Batch 2:  Loss: 1.01539 \tAccuracy: 0.6442\n",
      "Epoch  4, CIFAR-10 Batch 3:  Loss: 0.996667 \tAccuracy: 0.651\n",
      "Epoch  4, CIFAR-10 Batch 4:  Loss: 0.980793 \tAccuracy: 0.646\n",
      "Epoch  4, CIFAR-10 Batch 5:  Loss: 0.98249 \tAccuracy: 0.6528\n",
      "Epoch  5, CIFAR-10 Batch 1:  Loss: 0.986265 \tAccuracy: 0.662\n",
      "Epoch  5, CIFAR-10 Batch 2:  Loss: 0.931463 \tAccuracy: 0.676\n",
      "Epoch  5, CIFAR-10 Batch 3:  Loss: 0.929239 \tAccuracy: 0.6816\n",
      "Epoch  5, CIFAR-10 Batch 4:  Loss: 0.908358 \tAccuracy: 0.6882\n",
      "Epoch  5, CIFAR-10 Batch 5:  Loss: 0.900755 \tAccuracy: 0.6826\n",
      "Epoch  6, CIFAR-10 Batch 1:  Loss: 0.90978 \tAccuracy: 0.6882\n",
      "Epoch  6, CIFAR-10 Batch 2:  Loss: 0.897416 \tAccuracy: 0.6922\n",
      "Epoch  6, CIFAR-10 Batch 3:  Loss: 0.876865 \tAccuracy: 0.7012\n",
      "Epoch  6, CIFAR-10 Batch 4:  Loss: 0.874283 \tAccuracy: 0.6942\n",
      "Epoch  6, CIFAR-10 Batch 5:  Loss: 0.879419 \tAccuracy: 0.699\n",
      "Epoch  7, CIFAR-10 Batch 1:  Loss: 0.9207 \tAccuracy: 0.6876\n",
      "Epoch  7, CIFAR-10 Batch 2:  Loss: 0.968911 \tAccuracy: 0.666\n",
      "Epoch  7, CIFAR-10 Batch 3:  Loss: 0.872378 \tAccuracy: 0.6972\n",
      "Epoch  7, CIFAR-10 Batch 4:  Loss: 0.854579 \tAccuracy: 0.7072\n",
      "Epoch  7, CIFAR-10 Batch 5:  Loss: 0.870726 \tAccuracy: 0.706\n",
      "Epoch  8, CIFAR-10 Batch 1:  Loss: 0.870934 \tAccuracy: 0.7076\n",
      "Epoch  8, CIFAR-10 Batch 2:  Loss: 0.905593 \tAccuracy: 0.6912\n",
      "Epoch  8, CIFAR-10 Batch 3:  Loss: 0.844784 \tAccuracy: 0.7242\n",
      "Epoch  8, CIFAR-10 Batch 4:  Loss: 0.851367 \tAccuracy: 0.7078\n",
      "Epoch  8, CIFAR-10 Batch 5:  Loss: 0.809351 \tAccuracy: 0.723\n",
      "Epoch  9, CIFAR-10 Batch 1:  Loss: 0.869887 \tAccuracy: 0.7046\n",
      "Epoch  9, CIFAR-10 Batch 2:  Loss: 0.830444 \tAccuracy: 0.7184\n",
      "Epoch  9, CIFAR-10 Batch 3:  Loss: 0.872438 \tAccuracy: 0.7044\n",
      "Epoch  9, CIFAR-10 Batch 4:  Loss: 0.847247 \tAccuracy: 0.7196\n",
      "Epoch  9, CIFAR-10 Batch 5:  Loss: 0.879851 \tAccuracy: 0.7128\n",
      "Epoch 10, CIFAR-10 Batch 1:  Loss: 0.835416 \tAccuracy: 0.721\n",
      "Epoch 10, CIFAR-10 Batch 2:  Loss: 0.816225 \tAccuracy: 0.73\n",
      "Epoch 10, CIFAR-10 Batch 3:  Loss: 0.884679 \tAccuracy: 0.705\n",
      "Epoch 10, CIFAR-10 Batch 4:  Loss: 0.810444 \tAccuracy: 0.7262\n",
      "Epoch 10, CIFAR-10 Batch 5:  Loss: 0.82543 \tAccuracy: 0.7258\n",
      "Epoch 11, CIFAR-10 Batch 1:  Loss: 0.827984 \tAccuracy: 0.7234\n",
      "Epoch 11, CIFAR-10 Batch 2:  Loss: 0.811166 \tAccuracy: 0.731\n",
      "Epoch 11, CIFAR-10 Batch 3:  Loss: 0.86186 \tAccuracy: 0.7242\n",
      "Epoch 11, CIFAR-10 Batch 4:  Loss: 0.837494 \tAccuracy: 0.7238\n",
      "Epoch 11, CIFAR-10 Batch 5:  Loss: 0.874017 \tAccuracy: 0.7062\n",
      "Epoch 12, CIFAR-10 Batch 1:  Loss: 0.845122 \tAccuracy: 0.7284\n",
      "Epoch 12, CIFAR-10 Batch 2:  Loss: 0.812378 \tAccuracy: 0.74\n",
      "Epoch 12, CIFAR-10 Batch 3:  Loss: 0.846049 \tAccuracy: 0.737\n",
      "Epoch 12, CIFAR-10 Batch 4:  Loss: 0.821736 \tAccuracy: 0.7262\n",
      "Epoch 12, CIFAR-10 Batch 5:  Loss: 0.796963 \tAccuracy: 0.735\n",
      "Epoch 13, CIFAR-10 Batch 1:  Loss: 0.841437 \tAccuracy: 0.73\n",
      "Epoch 13, CIFAR-10 Batch 2:  Loss: 0.863343 \tAccuracy: 0.7202\n",
      "Epoch 13, CIFAR-10 Batch 3:  Loss: 0.824707 \tAccuracy: 0.7324\n",
      "Epoch 13, CIFAR-10 Batch 4:  Loss: 0.83592 \tAccuracy: 0.729\n",
      "Epoch 13, CIFAR-10 Batch 5:  Loss: 0.808058 \tAccuracy: 0.7362\n",
      "Epoch 14, CIFAR-10 Batch 1:  Loss: 0.815092 \tAccuracy: 0.7388\n",
      "Epoch 14, CIFAR-10 Batch 2:  Loss: 0.881465 \tAccuracy: 0.7262\n",
      "Epoch 14, CIFAR-10 Batch 3:  Loss: 0.895407 \tAccuracy: 0.7228\n",
      "Epoch 14, CIFAR-10 Batch 4:  Loss: 0.789414 \tAccuracy: 0.7472\n",
      "Epoch 14, CIFAR-10 Batch 5:  Loss: 0.805394 \tAccuracy: 0.7452\n",
      "Epoch 15, CIFAR-10 Batch 1:  Loss: 0.823169 \tAccuracy: 0.7384\n",
      "Epoch 15, CIFAR-10 Batch 2:  Loss: 0.822561 \tAccuracy: 0.7352\n",
      "Epoch 15, CIFAR-10 Batch 3:  Loss: 0.866304 \tAccuracy: 0.7364\n",
      "Epoch 15, CIFAR-10 Batch 4:  Loss: 0.854466 \tAccuracy: 0.7314\n",
      "Epoch 15, CIFAR-10 Batch 5:  Loss: 0.866946 \tAccuracy: 0.7294\n",
      "Epoch 16, CIFAR-10 Batch 1:  Loss: 0.832134 \tAccuracy: 0.7398\n",
      "Epoch 16, CIFAR-10 Batch 2:  Loss: 0.840266 \tAccuracy: 0.7304\n",
      "Epoch 16, CIFAR-10 Batch 3:  Loss: 0.875772 \tAccuracy: 0.7304\n",
      "Epoch 16, CIFAR-10 Batch 4:  Loss: 0.849623 \tAccuracy: 0.733\n",
      "Epoch 16, CIFAR-10 Batch 5:  Loss: 0.85986 \tAccuracy: 0.7362\n",
      "Epoch 17, CIFAR-10 Batch 1:  Loss: 0.821413 \tAccuracy: 0.7456\n",
      "Epoch 17, CIFAR-10 Batch 2:  Loss: 0.864055 \tAccuracy: 0.7338\n",
      "Epoch 17, CIFAR-10 Batch 3:  Loss: 0.863152 \tAccuracy: 0.7394\n",
      "Epoch 17, CIFAR-10 Batch 4:  Loss: 0.850045 \tAccuracy: 0.739\n",
      "Epoch 17, CIFAR-10 Batch 5:  Loss: 0.852355 \tAccuracy: 0.733\n",
      "Epoch 18, CIFAR-10 Batch 1:  Loss: 0.858808 \tAccuracy: 0.7418\n",
      "Epoch 18, CIFAR-10 Batch 2:  Loss: 0.898097 \tAccuracy: 0.7394\n",
      "Epoch 18, CIFAR-10 Batch 3:  Loss: 1.01274 \tAccuracy: 0.7062\n",
      "Epoch 18, CIFAR-10 Batch 4:  Loss: 0.879668 \tAccuracy: 0.7312\n",
      "Epoch 18, CIFAR-10 Batch 5:  Loss: 0.937428 \tAccuracy: 0.7198\n",
      "Epoch 19, CIFAR-10 Batch 1:  Loss: 0.851326 \tAccuracy: 0.7498\n",
      "Epoch 19, CIFAR-10 Batch 2:  Loss: 0.846843 \tAccuracy: 0.7468\n",
      "Epoch 19, CIFAR-10 Batch 3:  Loss: 0.881291 \tAccuracy: 0.7372\n",
      "Epoch 19, CIFAR-10 Batch 4:  Loss: 0.870417 \tAccuracy: 0.7382\n",
      "Epoch 19, CIFAR-10 Batch 5:  Loss: 0.901781 \tAccuracy: 0.734\n",
      "Epoch 20, CIFAR-10 Batch 1:  Loss: 0.893435 \tAccuracy: 0.732\n",
      "Epoch 20, CIFAR-10 Batch 2:  Loss: 0.848014 \tAccuracy: 0.7438\n",
      "Epoch 20, CIFAR-10 Batch 3:  Loss: 0.883192 \tAccuracy: 0.7336\n",
      "Epoch 20, CIFAR-10 Batch 4:  Loss: 0.869994 \tAccuracy: 0.7396\n",
      "Epoch 20, CIFAR-10 Batch 5:  Loss: 0.927355 \tAccuracy: 0.7336\n",
      "Epoch 21, CIFAR-10 Batch 1:  Loss: 0.902487 \tAccuracy: 0.7442\n",
      "Epoch 21, CIFAR-10 Batch 2:  Loss: 0.864985 \tAccuracy: 0.7428\n",
      "Epoch 21, CIFAR-10 Batch 3:  Loss: 0.942213 \tAccuracy: 0.7348\n",
      "Epoch 21, CIFAR-10 Batch 4:  Loss: 0.924391 \tAccuracy: 0.7364\n",
      "Epoch 21, CIFAR-10 Batch 5:  Loss: 0.946551 \tAccuracy: 0.7348\n",
      "Epoch 22, CIFAR-10 Batch 1:  Loss: 0.900644 \tAccuracy: 0.7394\n",
      "Epoch 22, CIFAR-10 Batch 2:  Loss: 0.872483 \tAccuracy: 0.7454\n",
      "Epoch 22, CIFAR-10 Batch 3:  Loss: 0.94086 \tAccuracy: 0.7422\n",
      "Epoch 22, CIFAR-10 Batch 4:  Loss: 0.937969 \tAccuracy: 0.7388\n",
      "Epoch 22, CIFAR-10 Batch 5:  Loss: 0.908075 \tAccuracy: 0.747\n",
      "Epoch 23, CIFAR-10 Batch 1:  Loss: 0.93178 \tAccuracy: 0.7394\n",
      "Epoch 23, CIFAR-10 Batch 2:  Loss: 0.911352 \tAccuracy: 0.7304\n",
      "Epoch 23, CIFAR-10 Batch 3:  Loss: 0.971356 \tAccuracy: 0.7384\n",
      "Epoch 23, CIFAR-10 Batch 4:  Loss: 0.912688 \tAccuracy: 0.7372\n",
      "Epoch 23, CIFAR-10 Batch 5:  Loss: 0.956179 \tAccuracy: 0.742\n",
      "Epoch 24, CIFAR-10 Batch 1:  Loss: 0.93468 \tAccuracy: 0.7392\n",
      "Epoch 24, CIFAR-10 Batch 2:  Loss: 0.898092 \tAccuracy: 0.7444\n",
      "Epoch 24, CIFAR-10 Batch 3:  Loss: 0.948016 \tAccuracy: 0.7432\n",
      "Epoch 24, CIFAR-10 Batch 4:  Loss: 0.97811 \tAccuracy: 0.7236\n",
      "Epoch 24, CIFAR-10 Batch 5:  Loss: 0.97044 \tAccuracy: 0.736\n",
      "Epoch 25, CIFAR-10 Batch 1:  Loss: 0.954466 \tAccuracy: 0.7394\n",
      "Epoch 25, CIFAR-10 Batch 2:  Loss: 0.899177 \tAccuracy: 0.7422\n",
      "Epoch 25, CIFAR-10 Batch 3:  Loss: 0.953723 \tAccuracy: 0.739\n",
      "Epoch 25, CIFAR-10 Batch 4:  Loss: 0.964426 \tAccuracy: 0.734\n",
      "Epoch 25, CIFAR-10 Batch 5:  Loss: 0.921091 \tAccuracy: 0.7474\n",
      "Epoch 26, CIFAR-10 Batch 1:  Loss: 0.937053 \tAccuracy: 0.7438\n",
      "Epoch 26, CIFAR-10 Batch 2:  Loss: 0.911123 \tAccuracy: 0.7396\n",
      "Epoch 26, CIFAR-10 Batch 3:  Loss: 0.936992 \tAccuracy: 0.7472\n",
      "Epoch 26, CIFAR-10 Batch 4:  Loss: 0.927384 \tAccuracy: 0.7418\n",
      "Epoch 26, CIFAR-10 Batch 5:  Loss: 0.923797 \tAccuracy: 0.7468\n",
      "Epoch 27, CIFAR-10 Batch 1:  Loss: 0.939983 \tAccuracy: 0.7538\n",
      "Epoch 27, CIFAR-10 Batch 2:  Loss: 0.967034 \tAccuracy: 0.7354\n",
      "Epoch 27, CIFAR-10 Batch 3:  Loss: 0.967412 \tAccuracy: 0.7438\n",
      "Epoch 27, CIFAR-10 Batch 4:  Loss: 0.916625 \tAccuracy: 0.7428\n",
      "Epoch 27, CIFAR-10 Batch 5:  Loss: 0.93745 \tAccuracy: 0.7512\n",
      "Epoch 28, CIFAR-10 Batch 1:  Loss: 0.988815 \tAccuracy: 0.7478\n",
      "Epoch 28, CIFAR-10 Batch 2:  Loss: 0.952543 \tAccuracy: 0.7432\n",
      "Epoch 28, CIFAR-10 Batch 3:  Loss: 0.994351 \tAccuracy: 0.7466\n",
      "Epoch 28, CIFAR-10 Batch 4:  Loss: 0.985571 \tAccuracy: 0.7454\n",
      "Epoch 28, CIFAR-10 Batch 5:  Loss: 1.02594 \tAccuracy: 0.7458\n",
      "Epoch 29, CIFAR-10 Batch 1:  Loss: 1.00596 \tAccuracy: 0.7518\n",
      "Epoch 29, CIFAR-10 Batch 2:  Loss: 0.927162 \tAccuracy: 0.7398\n",
      "Epoch 29, CIFAR-10 Batch 3:  Loss: 0.974138 \tAccuracy: 0.74\n",
      "Epoch 29, CIFAR-10 Batch 4:  Loss: 0.956908 \tAccuracy: 0.7464\n",
      "Epoch 29, CIFAR-10 Batch 5:  Loss: 0.975044 \tAccuracy: 0.7472\n",
      "Epoch 30, CIFAR-10 Batch 1:  Loss: 1.04369 \tAccuracy: 0.736\n",
      "Epoch 30, CIFAR-10 Batch 2:  Loss: 1.00181 \tAccuracy: 0.7304\n",
      "Epoch 30, CIFAR-10 Batch 3:  Loss: 1.05327 \tAccuracy: 0.7424\n",
      "Epoch 30, CIFAR-10 Batch 4:  Loss: 0.977569 \tAccuracy: 0.7472\n",
      "Epoch 30, CIFAR-10 Batch 5:  Loss: 1.06893 \tAccuracy: 0.7382\n"
     ]
    }
   ],
   "source": [
    "\"\"\"\n",
    "DON'T MODIFY ANYTHING IN THIS CELL\n",
    "\"\"\"\n",
    "save_model_path = './image_classification'\n",
    "\n",
    "print('Training...')\n",
    "with tf.Session() as sess:\n",
    "    # Initializing the variables\n",
    "    sess.run(tf.global_variables_initializer())\n",
    "    \n",
    "    # Training cycle\n",
    "    for epoch in range(epochs):\n",
    "        # Loop over all batches\n",
    "        n_batches = 5\n",
    "        for batch_i in range(1, n_batches + 1):\n",
    "            for batch_features, batch_labels in helper.load_preprocess_training_batch(batch_i, batch_size):\n",
    "                train_neural_network(sess, optimizer, keep_probability, batch_features, batch_labels)\n",
    "            print('Epoch {:>2}, CIFAR-10 Batch {}:  '.format(epoch + 1, batch_i), end='')\n",
    "            print_stats(sess, batch_features, batch_labels, cost, accuracy)\n",
    "            \n",
    "    # Save Model\n",
    "    saver = tf.train.Saver()\n",
    "    save_path = saver.save(sess, save_model_path)"
   ]
  },
  {
   "cell_type": "markdown",
   "metadata": {},
   "source": [
    "# Checkpoint\n",
    "The model has been saved to disk.\n",
    "## Test Model\n",
    "Test your model against the test dataset.  This will be your final accuracy. You should have an accuracy greater than 50%. If you don't, keep tweaking the model architecture and parameters."
   ]
  },
  {
   "cell_type": "code",
   "execution_count": 18,
   "metadata": {
    "collapsed": false
   },
   "outputs": [
    {
     "name": "stdout",
     "output_type": "stream",
     "text": [
      "Testing Accuracy: 0.7329905063291139\n",
      "\n"
     ]
    },
    {
     "data": {
      "image/png": "[encoded data removed]",
      "text/plain": [
       "<matplotlib.figure.Figure at 0x7f06790648d0>"
      ]
     },
     "metadata": {
      "image/png": {
       "height": 319,
       "width": 355
      }
     },
     "output_type": "display_data"
    }
   ],
   "source": [
    "\"\"\"\n",
    "DON'T MODIFY ANYTHING IN THIS CELL\n",
    "\"\"\"\n",
    "%matplotlib inline\n",
    "%config InlineBackend.figure_format = 'retina'\n",
    "\n",
    "import tensorflow as tf\n",
    "import pickle\n",
    "import helper\n",
    "import random\n",
    "\n",
    "# Set batch size if not already set\n",
    "try:\n",
    "    if batch_size:\n",
    "        pass\n",
    "except NameError:\n",
    "    batch_size = 64\n",
    "\n",
    "save_model_path = './image_classification'\n",
    "n_samples = 4\n",
    "top_n_predictions = 3\n",
    "\n",
    "def test_model():\n",
    "    \"\"\"\n",
    "    Test the saved model against the test dataset\n",
    "    \"\"\"\n",
    "\n",
    "    test_features, test_labels = pickle.load(open('preprocess_training.p', mode='rb'))\n",
    "    loaded_graph = tf.Graph()\n",
    "\n",
    "    with tf.Session(graph=loaded_graph) as sess:\n",
    "        # Load model\n",
    "        loader = tf.train.import_meta_graph(save_model_path + '.meta')\n",
    "        loader.restore(sess, save_model_path)\n",
    "\n",
    "        # Get Tensors from loaded model\n",
    "        loaded_x = loaded_graph.get_tensor_by_name('x:0')\n",
    "        loaded_y = loaded_graph.get_tensor_by_name('y:0')\n",
    "        loaded_keep_prob = loaded_graph.get_tensor_by_name('keep_prob:0')\n",
    "        loaded_logits = loaded_graph.get_tensor_by_name('logits:0')\n",
    "        loaded_acc = loaded_graph.get_tensor_by_name('accuracy:0')\n",
    "        \n",
    "        # Get accuracy in batches for memory limitations\n",
    "        test_batch_acc_total = 0\n",
    "        test_batch_count = 0\n",
    "        \n",
    "        for train_feature_batch, train_label_batch in helper.batch_features_labels(test_features, test_labels, batch_size):\n",
    "            test_batch_acc_total += sess.run(\n",
    "                loaded_acc,\n",
    "                feed_dict={loaded_x: train_feature_batch, loaded_y: train_label_batch, loaded_keep_prob: 1.0})\n",
    "            test_batch_count += 1\n",
    "\n",
    "        print('Testing Accuracy: {}\\n'.format(test_batch_acc_total/test_batch_count))\n",
    "\n",
    "        # Print Random Samples\n",
    "        random_test_features, random_test_labels = tuple(zip(*random.sample(list(zip(test_features, test_labels)), n_samples)))\n",
    "        random_test_predictions = sess.run(\n",
    "            tf.nn.top_k(tf.nn.softmax(loaded_logits), top_n_predictions),\n",
    "            feed_dict={loaded_x: random_test_features, loaded_y: random_test_labels, loaded_keep_prob: 1.0})\n",
    "        helper.display_image_predictions(random_test_features, random_test_labels, random_test_predictions)\n",
    "\n",
    "\n",
    "test_model()"
   ]
  },
  {
   "cell_type": "markdown",
   "metadata": {},
   "source": [
    "## Why 50-80% Accuracy?\n",
    "You might be wondering why you can't get an accuracy any higher. First things first, 50% isn't bad for a simple CNN.  Pure guessing would get you 10% accuracy. However, you might notice people are getting scores [well above 80%](http://rodrigob.github.io/are_we_there_yet/build/classification_datasets_results.html#43494641522d3130).  That's because we haven't taught you all there is to know about neural networks. We still need to cover a few more techniques.\n",
    "## Submitting This Project\n",
    "When submitting this project, make sure to run all the cells before saving the notebook.  Save the notebook file as \"dlnd_image_classification.ipynb\" and save it as a HTML file under \"File\" -> \"Download as\".  Include the \"helper.py\" and \"problem_unittests.py\" files in your submission."
   ]
  },
  {
   "cell_type": "code",
   "execution_count": null,
   "metadata": {
    "collapsed": true
   },
   "outputs": [],
   "source": []
  }
 ],
 "metadata": {
  "kernelspec": {
   "display_name": "Python 3",
   "language": "python",
   "name": "python3"
  },
  "language_info": {
   "codemirror_mode": {
    "name": "ipython",
    "version": 3
   },
   "file_extension": ".py",
   "mimetype": "text/x-python",
   "name": "python",
   "nbconvert_exporter": "python",
   "pygments_lexer": "ipython3",
   "version": "3.6.0"
  }
 },
 "nbformat": 4,
 "nbformat_minor": 0
}
