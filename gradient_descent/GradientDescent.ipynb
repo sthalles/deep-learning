{
 "cells": [
  {
   "cell_type": "code",
   "execution_count": 1,
   "metadata": {
    "collapsed": true
   },
   "outputs": [],
   "source": [
    "# load the required libraries\n",
    "import numpy as np\n",
    "import matplotlib.pyplot as plt\n",
    "%matplotlib inline "
   ]
  },
  {
   "cell_type": "code",
   "execution_count": 2,
   "metadata": {
    "collapsed": false
   },
   "outputs": [],
   "source": [
    "# read the dataset\n",
    "# We are going to use the Age Blood Presure dataset\n",
    "dataset = np.loadtxt(\"x03.txt\")"
   ]
  },
  {
   "cell_type": "markdown",
   "metadata": {},
   "source": [
    "Let`s visualize the dataset to have an intuition of the data distribution."
   ]
  },
  {
   "cell_type": "code",
   "execution_count": 3,
   "metadata": {
    "collapsed": false
   },
   "outputs": [
    {
     "data": {
      "text/plain": [
       "<matplotlib.collections.PathCollection at 0x1087497d0>"
      ]
     },
     "execution_count": 3,
     "metadata": {},
     "output_type": "execute_result"
    },
    {
     "data": {
      "image/png": "[encoded data removed]",
      "text/plain": [
       "<matplotlib.figure.Figure at 0x10869b310>"
      ]
     },
     "metadata": {},
     "output_type": "display_data"
    }
   ],
   "source": [
    "plt.scatter(dataset[:,2],dataset[:,3])"
   ]
  },
  {
   "cell_type": "markdown",
   "metadata": {},
   "source": [
    "In order to find a line - (y = mx + b) - that best fits our dataset above, we are going to initialize a default line, and interactively update that line by using the gradient descent optimization algorithm."
   ]
  },
  {
   "cell_type": "code",
   "execution_count": 4,
   "metadata": {
    "collapsed": false
   },
   "outputs": [],
   "source": [
    "initial_b = 1.\n",
    "initial_m = 2."
   ]
  },
  {
   "cell_type": "code",
   "execution_count": 5,
   "metadata": {
    "collapsed": false
   },
   "outputs": [
    {
     "data": {
      "text/plain": [
       "<matplotlib.collections.PathCollection at 0x1088f2550>"
      ]
     },
     "execution_count": 5,
     "metadata": {},
     "output_type": "execute_result"
    },
    {
     "data": {
      "image/png": "[encoded data removed]",
      "text/plain": [
       "<matplotlib.figure.Figure at 0x1086fc390>"
      ]
     },
     "metadata": {},
     "output_type": "display_data"
    }
   ],
   "source": [
    "dataset = np.delete(dataset, 1, 0)\n",
    "plt.scatter(dataset[:,2], dataset[:,3])"
   ]
  },
  {
   "cell_type": "code",
   "execution_count": 6,
   "metadata": {
    "collapsed": false
   },
   "outputs": [],
   "source": [
    "# we are going to train a model that predicts a blood pressure value based on some age \n",
    "xs = dataset[:,2]\n",
    "ys = dataset[:,3]"
   ]
  },
  {
   "cell_type": "markdown",
   "metadata": {},
   "source": [
    "Now, to evaluate how wrong our initial default value is from the desired line, let's calculate the error from every point in the dataset to the initial default line, sum them up and take the average."
   ]
  },
  {
   "cell_type": "code",
   "execution_count": 7,
   "metadata": {
    "collapsed": false
   },
   "outputs": [],
   "source": [
    "def compute_error_for_line_given_points(slope, y_intercept, dataset):\n",
    "    total_error = 0.0\n",
    "    N = len(dataset)\n",
    "    for i in range(N):\n",
    "        x = dataset[i,2]\n",
    "        y = dataset[i,3]\n",
    "        total_error += (y - (slope * x + y_intercept)) ** 2\n",
    "    \n",
    "    return total_error / N"
   ]
  },
  {
   "cell_type": "code",
   "execution_count": 8,
   "metadata": {
    "collapsed": false
   },
   "outputs": [
    {
     "name": "stdout",
     "output_type": "stream",
     "text": [
      "Initial error: 2717.27586207\n"
     ]
    }
   ],
   "source": [
    "error = compute_error_for_line_given_points(initial_m, initial_b, dataset)\n",
    "print \"Initial error:\", error\n"
   ]
  },
  {
   "cell_type": "code",
   "execution_count": 9,
   "metadata": {
    "collapsed": true
   },
   "outputs": [],
   "source": [
    "def gradient_step(current_b, current_m, dataset, learning_rate):\n",
    "    b_gradient = 0\n",
    "    m_gradient = 0\n",
    "    N = float(len(dataset))\n",
    "    for i in range(len(dataset)):\n",
    "        x = dataset[i,2]\n",
    "        y = dataset[i,3]\n",
    "    \n",
    "        # calculate partial derivatives with respect to b and m\n",
    "        # and move in their direction\n",
    "        b_gradient += -(2/N) * (y - (current_m * x) - current_b)\n",
    "        m_gradient += -(2/N) * x * (y - (current_m * x) - current_b)\n",
    "    \n",
    "    new_b = current_b - learning_rate * b_gradient\n",
    "    new_m = current_m - learning_rate * m_gradient\n",
    "\n",
    "    return new_b, new_m\n"
   ]
  },
  {
   "cell_type": "code",
   "execution_count": 100,
   "metadata": {
    "collapsed": false
   },
   "outputs": [],
   "source": [
    "b = initial_b\n",
    "m = initial_m\n",
    "learning_rate = 0.000441\n",
    "\n",
    "# training loop\n",
    "for step in range(50000):\n",
    "    b, m = gradient_step(b, m, dataset, learning_rate)\n",
    "    "
   ]
  },
  {
   "cell_type": "code",
   "execution_count": 101,
   "metadata": {
    "collapsed": false
   },
   "outputs": [
    {
     "name": "stdout",
     "output_type": "stream",
     "text": [
      "Learned line: y =  0.969515339209 x +  96.0623147388\n",
      "Error: 85.2561700985\n"
     ]
    }
   ],
   "source": [
    "print \"Learned line: y = \", m, \"x + \", b \n",
    "print \"Error:\", compute_error_for_line_given_points(m, b, dataset)"
   ]
  },
  {
   "cell_type": "code",
   "execution_count": 102,
   "metadata": {
    "collapsed": true
   },
   "outputs": [],
   "source": [
    "def predict(x):\n",
    "    return m * x + b"
   ]
  },
  {
   "cell_type": "code",
   "execution_count": 103,
   "metadata": {
    "collapsed": false
   },
   "outputs": [
    {
     "name": "stdout",
     "output_type": "stream",
     "text": [
      "17.0 112.544075505\n",
      "69.0 162.958873144\n"
     ]
    },
    {
     "data": {
      "image/png": "[encoded data removed]",
      "text/plain": [
       "<matplotlib.figure.Figure at 0x10923a890>"
      ]
     },
     "metadata": {},
     "output_type": "display_data"
    }
   ],
   "source": [
    "x1 = np.min(xs)\n",
    "y1 = np.min(ys)\n",
    "x2 = np.max(xs)\n",
    "y2 = np.max(ys)\n",
    "\n",
    "min_y = predict(x1)\n",
    "max_y = predict(x2)\n",
    "\n",
    "print x1, min_y\n",
    "print x2, max_y\n",
    "\n",
    "plt.figure()\n",
    "plt.scatter(xs, ys, color = 'k', alpha=0.5)\n",
    "plt.plot([x1, x2], [min_y, max_y], 'k-', color = 'r')\n",
    "plt.show()"
   ]
  },
  {
   "cell_type": "code",
   "execution_count": null,
   "metadata": {
    "collapsed": true
   },
   "outputs": [],
   "source": []
  }
 ],
 "metadata": {
  "kernelspec": {
   "display_name": "Python 2",
   "language": "python",
   "name": "python2"
  },
  "language_info": {
   "codemirror_mode": {
    "name": "ipython",
    "version": 2
   },
   "file_extension": ".py",
   "mimetype": "text/x-python",
   "name": "python",
   "nbconvert_exporter": "python",
   "pygments_lexer": "ipython2",
   "version": "2.7.11"
  }
 },
 "nbformat": 4,
 "nbformat_minor": 0
}
